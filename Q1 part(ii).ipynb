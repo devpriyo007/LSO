{
 "cells": [
  {
   "cell_type": "markdown",
   "id": "infrared-better",
   "metadata": {},
   "source": [
    "$\\textbf{Q1 - Part (ii):}$ The code below solves the following optimization problem(Kantorovich's Formulation of the cutting stock problem)-\n",
    "\n",
    "$\\min_{\\textbf{x},\\textbf{y}} \\quad \\sum_k y_k$\n",
    "\n",
    "Subject to the following constraints: \n",
    "\n",
    "<ol>\n",
    "    <li> $\\sum_k x_{ik} \\ge n_i$, $\\forall i \\in I$  </li>\n",
    "    <li> $\\sum_i w_i x_{ik} \\le Wy_k$, $\\forall k \\in K$ </li>\n",
    "    <li> $x_{ik} \\in \\mathbb{Z}_{\\ge 0}$, $ \\forall i \\in I, k \\in K$ </li>\n",
    "    <li> $y_k \\in \\{0,1\\}$, $\\forall k \\in K$ </li>\n",
    "</ol>\n",
    "\n",
    "where\n",
    "<ul>\n",
    "    <li> $x_{ik}$ is a non negative integer variable, which corresponds to the number of $i^{th}$ patterns to be cut from $k^{th}$ piece </li>\n",
    "    <li> $y_k = 1$, if $k^{th}$ piece is chosen, $0$ otherwise </li>\n",
    "    <li> $W$ is the size of a piece(given)</li>\n",
    "    <li> $n_i$ is the demand for pattern $i$ </li>\n",
    "    <li> $w_i$ is the size of pattern $i$ </li>\n",
    "    <li>$I=$ the number of distinct pattern sizes </li>\n",
    "</ul>\n",
    "\n",
    "For the code below, we choose $K = $ sum of all demands. \n",
    "In part (ii), the $\\textbf{IP}$ objective value obtained is $73$."
   ]
  },
  {
   "cell_type": "code",
   "execution_count": 1,
   "id": "bacterial-demonstration",
   "metadata": {},
   "outputs": [],
   "source": [
    "import gurobipy as gp \n",
    "import numpy as np"
   ]
  },
  {
   "cell_type": "code",
   "execution_count": 2,
   "id": "digital-feature",
   "metadata": {},
   "outputs": [
    {
     "name": "stdout",
     "output_type": "stream",
     "text": [
      "Academic license - for non-commercial use only - expires 2022-10-15\n",
      "Using license file C:\\Users\\Dev\\gurobi.lic\n"
     ]
    }
   ],
   "source": [
    "m = gp.Model()\n",
    "\n",
    "y = {} #Binary variable for wood piece \n",
    "x = {} #integer variable if wood pattern i is cut from wood piece k\n",
    "\n",
    "W = 5600 #standard size of wood piece\n",
    "pattern_sizes = np.array([1380, 1520, 1560, 1710, 1820, 1880, 1930, 2000, 2050, 2100, 2140, 2150, 2200])\n",
    "demands = np.array([22, 25, 12, 14, 18, 18, 20, 10, 12, 14, 16, 18, 20])\n",
    "\n",
    "K = np.sum(demands) #number of wood pieces\n",
    "I = np.size(pattern_sizes)\n",
    "J = np.size(demands) #not needed"
   ]
  },
  {
   "cell_type": "code",
   "execution_count": 4,
   "id": "under-beijing",
   "metadata": {},
   "outputs": [],
   "source": [
    "for k in range(K):\n",
    "    y[k] = m.addVar( vtype=gp.GRB.BINARY, name=\"y\"+str(k))\n",
    "\n",
    "for i in range(I):\n",
    "    for k in range(K):\n",
    "        x[i,k] = m.addVar(lb = 0, vtype = gp.GRB.INTEGER, name = \"x\"+str(i)+'_'+str(k))\n",
    "\n",
    "#minimize the number of wood pieces to be used\n",
    "m.setObjective(gp.quicksum(y[k] for k in range(K)), sense=gp.GRB.MINIMIZE)"
   ]
  },
  {
   "cell_type": "code",
   "execution_count": 5,
   "id": "peaceful-commercial",
   "metadata": {},
   "outputs": [],
   "source": [
    "for i in range(I):\n",
    "    m.addConstr(gp.quicksum(x[i,k] for k in range(K))>=demands[i]) #demand constraint\n"
   ]
  },
  {
   "cell_type": "code",
   "execution_count": 6,
   "id": "variable-emission",
   "metadata": {},
   "outputs": [],
   "source": [
    "for k in range(K):\n",
    "    m.addConstr(gp.quicksum(pattern_sizes[i]*x[i,k] for i in range(I))<= W*y[k]) #capacity constraint"
   ]
  },
  {
   "cell_type": "code",
   "execution_count": 7,
   "id": "black-reproduction",
   "metadata": {},
   "outputs": [
    {
     "name": "stdout",
     "output_type": "stream",
     "text": [
      "Gurobi Optimizer version 9.1.1 build v9.1.1rc0 (win64)\n",
      "Thread count: 2 physical cores, 4 logical processors, using up to 4 threads\n",
      "Optimize a model with 232 rows, 6132 columns and 5913 nonzeros\n",
      "Model fingerprint: 0x5bade0c4\n",
      "Variable types: 3066 continuous, 3066 integer (219 binary)\n",
      "Coefficient statistics:\n",
      "  Matrix range     [1e+00, 6e+03]\n",
      "  Objective range  [1e+00, 1e+00]\n",
      "  Bounds range     [1e+00, 1e+00]\n",
      "  RHS range        [1e+01, 3e+01]\n",
      "Presolve removed 0 rows and 3066 columns\n",
      "Presolve time: 0.14s\n",
      "Presolved: 232 rows, 3066 columns, 5913 nonzeros\n",
      "Variable types: 0 continuous, 3066 integer (219 binary)\n",
      "Found heuristic solution: objective 87.0000000\n",
      "Found heuristic solution: objective 82.0000000\n",
      "\n",
      "Root relaxation: objective 7.270714e+01, 533 iterations, 0.03 seconds\n",
      "\n",
      "    Nodes    |    Current Node    |     Objective Bounds      |     Work\n",
      " Expl Unexpl |  Obj  Depth IntInf | Incumbent    BestBd   Gap | It/Node Time\n",
      "\n",
      "     0     0   72.70714    0   87   82.00000   72.70714  11.3%     -    0s\n",
      "     0     0   72.70714    0  168   82.00000   72.70714  11.3%     -    0s\n",
      "     0     0   72.70714    0   92   82.00000   72.70714  11.3%     -    0s\n",
      "H    0     0                      80.0000000   72.70714  9.12%     -    1s\n",
      "H    0     0                      78.0000000   72.70714  6.79%     -    1s\n",
      "     0     2   72.70714    0   89   78.00000   72.70714  6.79%     -    1s\n",
      "H   27     3                      77.0000000   72.70714  5.58%  39.7    1s\n",
      "H   54     2                      76.0000000   72.70714  4.33%  21.1    2s\n",
      "H  121    13                      75.0000000   72.70714  3.06%  16.2    2s\n",
      "H  153    33                      74.0000000   72.70714  1.75%  18.8    3s\n",
      "   525   268   73.00000   64   78   74.00000   73.00000  1.35%  16.1    5s\n",
      "  1082   497   73.00000  162   80   74.00000   73.00000  1.35%  18.0   11s\n",
      "  1638   679   73.00000   63   75   74.00000   73.00000  1.35%  20.1   15s\n",
      "  2234   769   73.00000   64   67   74.00000   73.00000  1.35%  20.2   21s\n",
      "  2781   896 infeasible   69        74.00000   73.00000  1.35%  20.4   25s\n",
      "  3586   958 infeasible  140        74.00000   73.00000  1.35%  19.8   30s\n",
      "  4209  1180   73.00000   88   73   74.00000   73.00000  1.35%  19.7   36s\n",
      "  4792  1356   73.00000  154   65   74.00000   73.00000  1.35%  19.5   41s\n",
      "  5404  1505   73.00000  141   67   74.00000   73.00000  1.35%  19.3   46s\n",
      "  6081  1718   73.00000  140   71   74.00000   73.00000  1.35%  19.0   50s\n",
      "  6805  1699 infeasible  170        74.00000   73.00000  1.35%  18.4   56s\n",
      "  7622  1735 infeasible  152        74.00000   73.00000  1.35%  18.3   63s\n",
      "  7809  1822   73.00000  162   62   74.00000   73.00000  1.35%  18.5   66s\n",
      "  8748  1906   73.00000  168   62   74.00000   73.00000  1.35%  18.2   71s\n",
      "  9649  1977 infeasible  159        74.00000   73.00000  1.35%  18.0   78s\n",
      "  9942  2035   73.00000   93   69   74.00000   73.00000  1.35%  18.0   81s\n",
      " 11095  2174 infeasible  116        74.00000   73.00000  1.35%  18.1   88s\n",
      " 11334  2370 infeasible  143        74.00000   73.00000  1.35%  18.3   91s\n",
      " 12491  2520 infeasible  142        74.00000   73.00000  1.35%  18.0   96s\n",
      " 13629  2351 infeasible  123        74.00000   73.00000  1.35%  17.7  107s\n",
      "H13842   162                      73.0000000   73.00000  0.00%  17.7  107s\n",
      "\n",
      "Explored 13897 nodes (251038 simplex iterations) in 107.68 seconds\n",
      "Thread count was 4 (of 4 available processors)\n",
      "\n",
      "Solution count 9: 73 74 75 ... 87\n",
      "\n",
      "Optimal solution found (tolerance 1.00e-04)\n",
      "Best objective 7.300000000000e+01, best bound 7.300000000000e+01, gap 0.0000%\n"
     ]
    }
   ],
   "source": [
    "m.optimize()\n"
   ]
  },
  {
   "cell_type": "markdown",
   "id": "right-parliament",
   "metadata": {},
   "source": [
    "IP Objective value = $73$.\n",
    "CPU Time = $107$ seconds."
   ]
  },
  {
   "cell_type": "code",
   "execution_count": null,
   "id": "impressed-workstation",
   "metadata": {},
   "outputs": [],
   "source": []
  }
 ],
 "metadata": {
  "kernelspec": {
   "display_name": "Python 3",
   "language": "python",
   "name": "python3"
  },
  "language_info": {
   "codemirror_mode": {
    "name": "ipython",
    "version": 3
   },
   "file_extension": ".py",
   "mimetype": "text/x-python",
   "name": "python",
   "nbconvert_exporter": "python",
   "pygments_lexer": "ipython3",
   "version": "3.6.7"
  }
 },
 "nbformat": 4,
 "nbformat_minor": 5
}
