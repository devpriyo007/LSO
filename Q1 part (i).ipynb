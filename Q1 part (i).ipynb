{
 "cells": [
  {
   "cell_type": "markdown",
   "id": "raising-minneapolis",
   "metadata": {},
   "source": [
    "$\\textbf{Q1 - Part (i):}$ The code below solves the following optimization problem(Kantorovich's Formulation of the cutting stock problem)-\n",
    "\n",
    "$\\min_{\\textbf{x},\\textbf{y}} \\quad \\sum_k y_k$\n",
    "\n",
    "Subject to the following constraints: \n",
    "\n",
    "<ol>\n",
    "    <li> $\\sum_k x_{ik} \\ge n_i$, $\\forall i \\in I$  </li>\n",
    "    <li> $\\sum_i w_i x_{ik} \\le Wy_k$, $\\forall k \\in K$ </li>\n",
    "    <li> $x_{ik} \\in \\mathbb{Z}_{\\ge 0}$, $ \\forall i \\in I, k \\in K$ </li>\n",
    "    <li> $y_k \\in \\{0,1\\}$, $\\forall k \\in K$ </li>\n",
    "</ol>\n",
    "\n",
    "where\n",
    "<ul>\n",
    "    <li> $x_{ik}$ is a non negative integer variable, which corresponds to the number of $i^{th}$ patterns to be cut from $k^{th}$ piece </li>\n",
    "    <li> $y_k = 1$, if $k^{th}$ piece is chosen, $0$ otherwise </li>\n",
    "    <li> $W$ is the size of a piece(given)</li>\n",
    "    <li> $n_i$ is the demand for pattern $i$ </li>\n",
    "    <li> $w_i$ is the size of pattern $i$ </li>\n",
    "    <li>$I=$ the number of distinct pattern sizes </li>\n",
    "</ul>\n",
    "\n",
    "For the code below, we choose $K = $ sum of all demands. \n",
    "            "
   ]
  },
  {
   "cell_type": "code",
   "execution_count": 2,
   "id": "human-settlement",
   "metadata": {},
   "outputs": [],
   "source": [
    "import gurobipy as gp \n",
    "import numpy as np"
   ]
  },
  {
   "cell_type": "code",
   "execution_count": 3,
   "id": "parliamentary-green",
   "metadata": {},
   "outputs": [
    {
     "name": "stdout",
     "output_type": "stream",
     "text": [
      "Academic license - for non-commercial use only - expires 2022-10-15\n",
      "Using license file C:\\Users\\Dev\\gurobi.lic\n"
     ]
    }
   ],
   "source": [
    "m = gp.Model()\n",
    "\n",
    "y = {} #Binary variable for wood piece \n",
    "x = {} #integer variable if wood pattern i is cut from wood piece k\n",
    "\n",
    "W = 5600 #standard size of wood piece\n",
    "pattern_sizes = np.array([1380, 1520, 1560, 1710, 1820, 1880, 1930, 2000, 2050, 2100, 2140, 2150, 2200])\n",
    "demands = np.array([22, 25, 12, 14, 18, 18, 20, 10, 12, 14, 16, 18, 20])\n",
    "\n",
    "K = np.sum(demands) #number of wood pieces\n",
    "I = np.size(pattern_sizes)\n",
    "J = np.size(demands) #not needed"
   ]
  },
  {
   "cell_type": "code",
   "execution_count": 4,
   "id": "gentle-airport",
   "metadata": {},
   "outputs": [],
   "source": [
    "for k in range(K):\n",
    "    y[k] = m.addVar(lb = 0, ub = 1, vtype=gp.GRB.CONTINUOUS, name=\"y\"+str(k))\n",
    "\n",
    "for i in range(I):\n",
    "    for k in range(K):\n",
    "        x[i,k] = m.addVar(lb = 0, vtype = gp.GRB.CONTINUOUS, name = \"x\"+str(i)+'_'+str(k))\n",
    "\n",
    "#minimize the number of wood pieces to be used\n",
    "m.setObjective(gp.quicksum(y[k] for k in range(K)), sense=gp.GRB.MINIMIZE)"
   ]
  },
  {
   "cell_type": "code",
   "execution_count": 5,
   "id": "willing-description",
   "metadata": {},
   "outputs": [],
   "source": [
    "for i in range(I):\n",
    "    m.addConstr(gp.quicksum(x[i,k] for k in range(K))>=demands[i]) #demand constraint\n"
   ]
  },
  {
   "cell_type": "code",
   "execution_count": 6,
   "id": "asian-player",
   "metadata": {},
   "outputs": [],
   "source": [
    "for k in range(K):\n",
    "    m.addConstr(gp.quicksum(pattern_sizes[i]*x[i,k] for i in range(I))<= W*y[k]) #capacity constraint"
   ]
  },
  {
   "cell_type": "code",
   "execution_count": 7,
   "id": "quantitative-cleveland",
   "metadata": {},
   "outputs": [
    {
     "name": "stdout",
     "output_type": "stream",
     "text": [
      "Gurobi Optimizer version 9.1.1 build v9.1.1rc0 (win64)\n",
      "Thread count: 2 physical cores, 4 logical processors, using up to 4 threads\n",
      "Optimize a model with 232 rows, 3066 columns and 5913 nonzeros\n",
      "Model fingerprint: 0x1b794e8a\n",
      "Coefficient statistics:\n",
      "  Matrix range     [1e+00, 6e+03]\n",
      "  Objective range  [1e+00, 1e+00]\n",
      "  Bounds range     [1e+00, 1e+00]\n",
      "  RHS range        [1e+01, 3e+01]\n",
      "Presolve time: 0.44s\n",
      "Presolved: 232 rows, 3066 columns, 5913 nonzeros\n",
      "\n",
      "Iteration    Objective       Primal Inf.    Dual Inf.      Time\n",
      "       0    7.2707143e+01   0.000000e+00   0.000000e+00      1s\n",
      "\n",
      "Use crossover to convert LP symmetric solution to basic solution...\n",
      "Crossover log...\n",
      "\n",
      "      12 DPushes remaining with DInf 0.0000000e+00                 1s\n",
      "       0 DPushes remaining with DInf 0.0000000e+00                 1s\n",
      "\n",
      "    2840 PPushes remaining with PInf 0.0000000e+00                 1s\n",
      "       0 PPushes remaining with PInf 0.0000000e+00                 1s\n",
      "\n",
      "  Push phase complete: Pinf 0.0000000e+00, Dinf 4.8572257e-17      1s\n",
      "\n",
      "Iteration    Objective       Primal Inf.    Dual Inf.      Time\n",
      "    2849    7.2707143e+01   0.000000e+00   0.000000e+00      1s\n",
      "\n",
      "Solved in 2849 iterations and 0.60 seconds\n",
      "Optimal objective  7.270714286e+01\n"
     ]
    }
   ],
   "source": [
    "m.optimize()\n"
   ]
  },
  {
   "cell_type": "markdown",
   "id": "sporting-hello",
   "metadata": {},
   "source": [
    "LP Relaxation Objective is $72.70714286$"
   ]
  },
  {
   "cell_type": "code",
   "execution_count": null,
   "id": "acquired-toyota",
   "metadata": {},
   "outputs": [],
   "source": []
  }
 ],
 "metadata": {
  "kernelspec": {
   "display_name": "Python 3",
   "language": "python",
   "name": "python3"
  }
 },
 "nbformat": 4,
 "nbformat_minor": 5
}
