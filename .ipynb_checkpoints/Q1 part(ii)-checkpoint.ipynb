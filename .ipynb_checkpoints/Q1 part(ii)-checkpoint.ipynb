{
 "cells": [
  {
   "cell_type": "markdown",
   "id": "seasonal-celebration",
   "metadata": {},
   "source": [
    "$\\textbf{Q1 - Part (ii):}$ The code below solves the following optimization problem(Kantorovich's Formulation of the cutting stock problem)-\n",
    "\n",
    "$\\min_{\\textbf{x},\\textbf{y}} \\quad \\sum_k y_k$\n",
    "\n",
    "Subject to the following constraints: \n",
    "\n",
    "<ol>\n",
    "    <li> $\\sum_k x_{ik} \\ge n_i$, $\\forall i \\in I$  </li>\n",
    "    <li> $\\sum_i w_i x_{ik} \\le Wy_k$, $\\forall k \\in K$ </li>\n",
    "    <li> $x_{ik} \\in \\mathbb{Z}_{\\ge 0}$, $ \\forall i \\in I, k \\in K$ </li>\n",
    "    <li> $y_k \\in \\{0,1\\}$, $\\forall k \\in K$ </li>\n",
    "</ol>\n",
    "\n",
    "where\n",
    "<ul>\n",
    "    <li> $x_{ik}$ is a non negative integer variable, which corresponds to the number of $i^{th}$ patterns to be cut from $k^{th}$ piece </li>\n",
    "    <li> $y_k = 1$, if $k^{th}$ piece is chosen, $0$ otherwise </li>\n",
    "    <li> $W$ is the size of a piece(given)</li>\n",
    "    <li> $n_i$ is the demand for pattern $i$ </li>\n",
    "    <li> $w_i$ is the size of pattern $i$ </li>\n",
    "    <li>$I=$ the number of distinct pattern sizes </li>\n",
    "</ul>\n",
    "\n",
    "For the code below, we choose $K = $ sum of all demands. \n",
    "In part (ii), we solve the IP problem described above."
   ]
  },
  {
   "cell_type": "code",
   "execution_count": 1,
   "id": "authorized-harris",
   "metadata": {},
   "outputs": [],
   "source": [
    "import gurobipy as gp \n",
    "import numpy as np"
   ]
  },
  {
   "cell_type": "code",
   "execution_count": 2,
   "id": "adjacent-police",
   "metadata": {},
   "outputs": [
    {
     "name": "stdout",
     "output_type": "stream",
     "text": [
      "Academic license - for non-commercial use only - expires 2022-10-15\n",
      "Using license file C:\\Users\\Dev\\gurobi.lic\n"
     ]
    }
   ],
   "source": [
    "m = gp.Model()\n",
    "\n",
    "y = {} #Binary variable for wood piece \n",
    "x = {} #integer variable if wood pattern i is cut from wood piece k\n",
    "\n",
    "W = 5600 #standard size of wood piece\n",
    "pattern_sizes = np.array([1380, 1520, 1560, 1710, 1820, 1880, 1930, 2000, 2050, 2100, 2140, 2150, 2200])\n",
    "demands = np.array([22, 25, 12, 14, 18, 18, 20, 10, 12, 14, 16, 18, 20])\n",
    "\n",
    "K = np.sum(demands) #number of wood pieces\n",
    "I = np.size(pattern_sizes)\n",
    "J = np.size(demands) #not needed"
   ]
  },
  {
   "cell_type": "code",
   "execution_count": 3,
   "id": "transsexual-waste",
   "metadata": {},
   "outputs": [],
   "source": [
    "for k in range(K):\n",
    "    y[k] = m.addVar( vtype=gp.GRB.BINARY, name=\"y\"+str(k))\n",
    "\n",
    "for i in range(I):\n",
    "    for k in range(K):\n",
    "        x[i,k] = m.addVar(lb = 0, vtype = gp.GRB.INTEGER, name = \"x\"+str(i)+'_'+str(k))\n",
    "\n",
    "#minimize the number of wood pieces to be used\n",
    "m.setObjective(gp.quicksum(y[k] for k in range(K)), sense=gp.GRB.MINIMIZE)"
   ]
  },
  {
   "cell_type": "code",
   "execution_count": null,
   "id": "golden-argentina",
   "metadata": {},
   "outputs": [],
   "source": []
  }
 ],
 "metadata": {
  "kernelspec": {
   "display_name": "Python 3",
   "language": "python",
   "name": "python3"
  },
  "language_info": {
   "codemirror_mode": {
    "name": "ipython",
    "version": 3
   },
   "file_extension": ".py",
   "mimetype": "text/x-python",
   "name": "python",
   "nbconvert_exporter": "python",
   "pygments_lexer": "ipython3",
   "version": "3.6.7"
  }
 },
 "nbformat": 4,
 "nbformat_minor": 5
}
