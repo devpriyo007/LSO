{
 "cells": [
  {
   "cell_type": "markdown",
   "id": "worst-vacation",
   "metadata": {},
   "source": [
    "$\\textbf{Q1 - Part(iii):}$ Here, we solve the cutting stock problem using column generation(Gilmore-Gomory's formulation. For part (iii), we solve the LP relaxation of the problem. We obtain a Lower Bound of $72.9167$. There is no significant difference between the CPU time taken by Gurobi and Cplex.\n",
    "\n",
    "The LP lower bound obtained from direcetly solving the IP in part (i) was $72.70714268$, which is a much $\\textbf{weaker}$ lower bound as compared to what we obtain from column generation procedure. (Cplex output attached in the repository)"
   ]
  },
  {
   "cell_type": "markdown",
   "id": "limited-domain",
   "metadata": {},
   "source": [
    "$\\textbf{Q1 - Part(iv):}$ Here,we solve the cutting stock problem and report the best integer solution. We obtain the best integer solution as $73$. Again, there is no significant difference between the CPU time taken by Gurobi and Cplex. (Cplex output attached in the repository)\n",
    "\n",
    "Since the best integer solution is equal to the IP optimal solution of the Kantorovich Formulation, hence, column generation gives the optimal solution.However, column generation takes lesser CPU time(a couple of seconds) as compared to directly solving Kantorovich's IP(107s in Gurobi, 1+ hours in Cplex with an optimality gap of 1.73%). "
   ]
  },
  {
   "cell_type": "code",
   "execution_count": null,
   "id": "incredible-turkish",
   "metadata": {},
   "outputs": [],
   "source": []
  }
 ],
 "metadata": {
  "kernelspec": {
   "display_name": "Python 3",
   "language": "python",
   "name": "python3"
  },
  "language_info": {
   "codemirror_mode": {
    "name": "ipython",
    "version": 3
   },
   "file_extension": ".py",
   "mimetype": "text/x-python",
   "name": "python",
   "nbconvert_exporter": "python",
   "pygments_lexer": "ipython3",
   "version": "3.6.7"
  }
 },
 "nbformat": 4,
 "nbformat_minor": 5
}
